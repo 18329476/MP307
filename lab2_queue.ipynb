{
 "cells": [
  {
   "cell_type": "markdown",
   "metadata": {},
   "source": [
    "   #  MP307 Practical 2 Queueing Theory "
   ]
  },
  {
   "cell_type": "code",
   "execution_count": null,
   "metadata": {},
   "outputs": [],
   "source": []
  },
  {
   "cell_type": "markdown",
   "metadata": {},
   "source": [
    "## Python functions\n",
    "\n",
    "The Python functions contained in this notebook are:\n",
    "\n",
    "1. `Nearneigh(pup,pdown,r)`. This generates the transition matrix `P` for a simple nearest neighbour model with maximum size `r` and probability `pup` of one step up transition and  `pdown` for one step down transition. The output is the transition matrix.\n",
    "\n",
    "2. `Equilibrium(P)`. This computes the equilibrium probabilities for a given transition matrix `P`. If the system is not ergodic then an error message appears. The output is an array.\n",
    "\n",
    "3. `Queue(P,n0,nit)`. This simulates a queue for a given transition matrix `P` with initial queue size `n0` for `nit`  iterations. The output is a list of simulated queue data.\n",
    "\n",
    "4. `Qplot(qdata,pi)`. This generates up to 50 animations of the queue for any input data list `qdata`. The second argument is optional and consists of the equilibrium probabilities `pi` (if they exist and have been calculated via `Equilibrium(P)` above). The output is a Python animation where up to 50 plots are shown for the normalised frequency of events which can be compared to a plot of the equilibrium probabilities `pi` if provided. "
   ]
  },
  {
   "cell_type": "code",
   "execution_count": null,
   "metadata": {},
   "outputs": [],
   "source": [
    "%matplotlib notebook\n",
    "import numpy as np\n",
    "import matplotlib.pyplot as plt\n",
    "import matplotlib.patches as patches\n",
    "import matplotlib.path as path\n",
    "import matplotlib.animation as animation\n",
    "from matplotlib.patches import Rectangle\n",
    "import random as ran\n",
    "\n"
   ]
  },
  {
   "cell_type": "code",
   "execution_count": null,
   "metadata": {},
   "outputs": [],
   "source": [
    "def Nearneigh (pup, pdown, r):\n",
    "    # This generates the transition matrix P for a nearest neighbour model with \n",
    "    # maximum size r and probability pup of one step up transition and pdown \n",
    "    # for one step down transition. \n",
    "    # The output is the transition matrix P.\n",
    "    P = np.zeros((r + 1, r + 1))\n",
    "    P[0, 0] = 1 - pup\n",
    "    P[0, 1] = pup\n",
    "    P[r , r ] = 1 - pdown\n",
    "    P[r , r - 1] = pdown\n",
    "    for i in range(1, r):\n",
    "        P[i, i - 1] = pdown\n",
    "        P[i , i] = 1 - pdown - pup\n",
    "        P[i , i + 1] = pup\n",
    "    return(P)\n"
   ]
  },
  {
   "cell_type": "markdown",
   "metadata": {},
   "source": [
    "Example. Find the transition matrix for a queue of maximum size 5 with prob customer arrival=0.2 and prob customer servicing=0.3"
   ]
  },
  {
   "cell_type": "code",
   "execution_count": null,
   "metadata": {},
   "outputs": [],
   "source": [
    "P=Nearneigh(0.2,0.3,5)\n",
    "print(P)"
   ]
  },
  {
   "cell_type": "code",
   "execution_count": null,
   "metadata": {},
   "outputs": [],
   "source": []
  },
  {
   "cell_type": "code",
   "execution_count": null,
   "metadata": {},
   "outputs": [],
   "source": [
    "def Equilibrium (P):\n",
    "    # This computes the equilibrium probabilities pi for a given transition matrix P. \n",
    "    # If the system is not ergodic then an error message appears. \n",
    "    # The output is an array.\n",
    "    degenflag = 0\n",
    "    n = len(P)\n",
    "    pi = np.zeros((n))\n",
    "    for i in range(n):\n",
    "        if float(sum(P[i,:]))!= 1.0:\n",
    "            print(\"ERROR: row\",i,\"of P does not sum to 1 !\")\n",
    "    eigenvals, eigenvects=np.linalg.eig(P.transpose()) # eigendata for P transpose\n",
    "    for k in range(n):\n",
    "        if abs(eigenvals[k]-1)< 1.0e-14:\n",
    "            degenflag = degenflag + 1\n",
    "            k1=k # label for eigenvalue 1.\n",
    "    if 1 < degenflag:\n",
    "        print(\"ERROR: P is not Ergodic\")\n",
    "    else:\n",
    "        v=eigenvects[:,k1]\n",
    "        pi=v/sum(v)\n",
    "    return(pi)"
   ]
  },
  {
   "cell_type": "code",
   "execution_count": null,
   "metadata": {},
   "outputs": [],
   "source": [
    "Equilibrium(P)"
   ]
  },
  {
   "cell_type": "code",
   "execution_count": null,
   "metadata": {},
   "outputs": [],
   "source": []
  },
  {
   "cell_type": "code",
   "execution_count": null,
   "metadata": {},
   "outputs": [],
   "source": [
    "def Queue (P, n0, nit):\n",
    "# This simulates a queue for a given transition matrix P with initial queue size n0 for nit iterations. \n",
    "# The output is a list of simulated queue data.\n",
    "    nP = len(P)\n",
    "# pp is a relabelled transition matrix with row elements in decreasing order.\n",
    "# This is used to speed up the simulation process\n",
    "# The relabelling is stored in the matrix loc.\n",
    "    pp = np.zeros((nP,nP))\n",
    "    for i in range(nP):\n",
    "        for j in range(nP):\n",
    "            pp[i, j] = P[i, j]\n",
    "    loc = np.array([list(range(nP))]*nP)\n",
    "    for i in range(nP):\n",
    "        for j in range(nP-1):\n",
    "            maxpp = pp[i, j]\n",
    "            kmax = j\n",
    "            for k in range(j, nP):\n",
    "                if maxpp < pp[i, k]:\n",
    "                    maxpp = pp[i, k]\n",
    "                    kmax = k\n",
    "                    pp[i, j], pp[i, k] = pp[i, k], pp[i, j]\n",
    "                    loc[i, j], loc[i, k] = loc[i, k], loc[i, j]\n",
    "    n = n0\n",
    "    qseq = [n0]\n",
    "    if n0 < 0 or nP-1 < n0:\n",
    "        print(\"ERROR: inputted initial Q size : Qsize<0 or Qsize>\",nP-1)\n",
    "    for m in range(nit):\n",
    "        x = ran.random() # generates uniform random no on [0,1] \n",
    "        k = 0\n",
    "        x1 = pp[n, k]\n",
    "        while (x1 < x):\n",
    "            k = k + 1\n",
    "            x1 = x1 + pp[n, k]\n",
    "        n = loc[n, k] \n",
    "        qseq = qseq + [n]\n",
    "    return(qseq)"
   ]
  },
  {
   "cell_type": "code",
   "execution_count": null,
   "metadata": {},
   "outputs": [],
   "source": []
  },
  {
   "cell_type": "code",
   "execution_count": null,
   "metadata": {},
   "outputs": [],
   "source": [
    "print(P) # For the transition matrix in our example above"
   ]
  },
  {
   "cell_type": "code",
   "execution_count": null,
   "metadata": {},
   "outputs": [],
   "source": [
    "qdata=Queue(P,2,1000) # simulate 1000 steps with intial state 2 for given P\n",
    "print(qdata)"
   ]
  },
  {
   "cell_type": "code",
   "execution_count": null,
   "metadata": {},
   "outputs": [],
   "source": [
    "len(qdata) # notice there are 1001 data pts for 1000 steps"
   ]
  },
  {
   "cell_type": "code",
   "execution_count": null,
   "metadata": {},
   "outputs": [],
   "source": [
    "pi=Equilibrium(P) # equilibrium distribution\n",
    "print(pi)"
   ]
  },
  {
   "cell_type": "code",
   "execution_count": null,
   "metadata": {},
   "outputs": [],
   "source": []
  },
  {
   "cell_type": "code",
   "execution_count": null,
   "metadata": {},
   "outputs": [],
   "source": [
    "def Qplot(qdata,pi=[0,0]):\n",
    "    # This generates up to 50 animations of the queue for any input data list qdata\n",
    "    # The second argument is optional and consists of the equilibrium probabilities pi \n",
    "    # (if they exist and have been calculated via Equilibrium(P) above). \n",
    "    # The output is an animation of 50 plots of the normalised frequency of events.\n",
    "    # This is compared to the equilibrium probabilities pi if provided.\n",
    "    Npoints=len(qdata)\n",
    "    qmax=max(qdata)\n",
    "          \n",
    "    n,bins = np.histogram(qdata, qmax+1)\n",
    "    bins=list(range(qmax+2))\n",
    "    freq=np.array(n)/Npoints \n",
    "\n",
    "    # get the corners of the rectangles for the histogram\n",
    "    left = bins[:-1]\n",
    "    right = bins[1:]\n",
    "    bottom = np.zeros(len(left))\n",
    "    top = bottom + freq\n",
    "    nrects = len(left)\n",
    "\n",
    "    # Here comes the tricky part -- we have to set up the vertex and path codes\n",
    "    # arrays using `.Path.MOVETO`, `.Path.LINETO` and `.Path.CLOSEPOLY` for each rect.\n",
    "\n",
    "    #* We need 1 ``MOVETO`` per rectangle, which sets the initial point.\n",
    "    #* We need 3 ``LINETO``'s, which tell Matplotlib to draw lines from\n",
    "    #  vertex 1 to vertex 2, v2 to v3, and v3 to v4.\n",
    "    #* We then need one ``CLOSEPOLY`` which tells Matplotlib to draw a line from\n",
    "    #  the v4 to our initial vertex (the ``MOVETO`` vertex), in order to close the\n",
    "    #  polygon.\n",
    "\n",
    "    #<div class=\"alert alert-info\"><h4>Note</h4><p>The vertex for ``CLOSEPOLY`` is ignored, but we still need a placeholder\n",
    "    #  in the ``verts`` array to keep the codes aligned with the vertices.</p></div>\n",
    "\n",
    "    nverts = nrects * (1 + 3 + 1)\n",
    "    verts = np.zeros((nverts, 2))\n",
    "    codes = np.full(nverts, path.Path.LINETO)\n",
    "    codes[0::5] = path.Path.MOVETO\n",
    "    codes[4::5] = path.Path.CLOSEPOLY\n",
    "    verts[0::5, 0] = left\n",
    "    verts[0::5, 1] = bottom\n",
    "    verts[1::5, 0] = left\n",
    "    verts[1::5, 1] = top\n",
    "    verts[2::5, 0] = right\n",
    "    verts[2::5, 1] = top\n",
    "    verts[3::5, 0] = right\n",
    "    verts[3::5, 1] = bottom\n",
    "\n",
    "    #To animate the histogram, we use the ``qanimate`` function, which updates the locations of the vertices for the\n",
    "    #histogram (in this case, only the heights of each rectangle). \n",
    "\n",
    "    def qanimate(i):\n",
    "        # simulate qdata \n",
    "        Ni_points=int(Npoints*i/Nsim)\n",
    "        datai=qdata[1:Ni_points] # first Ni_points \n",
    "        ni, bins = np.histogram(datai, qmax+1)\n",
    "        freq=np.array(ni)/Ni_points \n",
    "        top = bottom + freq\n",
    "        verts[1::5, 1] = top\n",
    "        verts[2::5, 1] = top\n",
    "        time_text.set_text(time_template % Ni_points)\n",
    "        return patch, time_text\n",
    "\n",
    "    #``patch`` will eventually be a `.Patch` object.\n",
    "\n",
    "    patch = None\n",
    "    # Nsim animations\n",
    "    Nsim=50\n",
    "\n",
    "    fig, ax = plt.subplots()\n",
    "    barpath = path.Path(verts, codes)\n",
    "    patch = patches.PathPatch(\n",
    "        barpath, facecolor='red', edgecolor='black', alpha=1)\n",
    "    ax.add_patch(patch)\n",
    "\n",
    "    time_template = 'Time   %.1d'\n",
    "    time_text = ax.text(0.4, 0.9, '', transform=ax.transAxes)\n",
    "\n",
    "    # draw rectangle for equilibrium probs pi\n",
    "    if not type(pi) is int:\n",
    "        for m in range(len(pi)):\n",
    "            heightpi=pi[m]\n",
    "            widthpi=1\n",
    "            rectpi = Rectangle((m, 0), widthpi, heightpi, fc='white', ec ='black',lw = 2, alpha=0.5) \n",
    "            ax.add_patch(rectpi)\n",
    "\n",
    "    ax.set_xlim(left[0], right[-1])\n",
    "    ymax=max(freq)*1.5\n",
    "    ax.set_ylim(0, ymax)\n",
    "\n",
    "    ani = animation.FuncAnimation(fig, qanimate, Nsim+1,repeat=False, blit=True)\n",
    "    plt.show()\n",
    "    return ani"
   ]
  },
  {
   "cell_type": "code",
   "execution_count": null,
   "metadata": {},
   "outputs": [],
   "source": [
    "print(qdata)"
   ]
  },
  {
   "cell_type": "code",
   "execution_count": null,
   "metadata": {},
   "outputs": [],
   "source": [
    "Qplot(qdata) # animation of given qdata without pi given"
   ]
  },
  {
   "cell_type": "code",
   "execution_count": null,
   "metadata": {},
   "outputs": [],
   "source": [
    "print(pi)"
   ]
  },
  {
   "cell_type": "code",
   "execution_count": null,
   "metadata": {},
   "outputs": [],
   "source": [
    "Qplot(qdata,pi) # animation of given qdata with pi given"
   ]
  },
  {
   "cell_type": "code",
   "execution_count": null,
   "metadata": {},
   "outputs": [],
   "source": []
  },
  {
   "cell_type": "markdown",
   "metadata": {},
   "source": [
    "### Q.1 \n",
    "Simulate the Markov process with transition matrix: \n",
    "\n",
    "\\begin{bmatrix} \n",
    "1/2 & 0 & 1/2 & 0 & 0 & 0 \\\\ \n",
    "0 & 1/2 & 0 & 1/2 & 0 & 0 \\\\ \n",
    "0 & 0 & 1/2 & 0 & 1/2 & 0 \\\\ \n",
    "0 & 1/4 & 0 & 1/2 & 0 & 1/4 \\\\ \n",
    "1/4 & 0 & 1/4 & 0 & 1/2 & 0 \\\\ \n",
    "0 & 0 & 0 & 1/2 & 0 & 1/2%\n",
    "\\end{bmatrix}\n",
    "\n",
    "\n",
    "This is the same example as in Q.3 of Practical 1. Observe the long-time behaviour for initial queue size 0 and 1. \n",
    "\n",
    "Observe what happens if the first row is changed to $[1/4 , 1/4 , 1/2 , 0 , 0 , 0]$"
   ]
  },
  {
   "cell_type": "code",
   "execution_count": null,
   "metadata": {},
   "outputs": [],
   "source": [
    "P=np.matrix([\n",
    "    [1/2,0,1/2,0,0,0],\n",
    "    [0,1/2,0,1/2,0,0],\n",
    "    [0,0,1/2,0,1/2,0],\n",
    "    [0,1/4,0,1/2,0,1/4],\n",
    "    [1/4,0,1/4,0,1/2,0],\n",
    "    [0,0,0,1/2,0,1/2]\n",
    "    ])\n",
    "print(P)"
   ]
  },
  {
   "cell_type": "code",
   "execution_count": null,
   "metadata": {},
   "outputs": [],
   "source": [
    "qdata=Queue(P,0,1000)  # 1000 iterations with initial state 0"
   ]
  },
  {
   "cell_type": "code",
   "execution_count": null,
   "metadata": {},
   "outputs": [],
   "source": [
    "Qplot(qdata)"
   ]
  },
  {
   "cell_type": "code",
   "execution_count": null,
   "metadata": {},
   "outputs": [],
   "source": []
  },
  {
   "cell_type": "code",
   "execution_count": null,
   "metadata": {},
   "outputs": [],
   "source": []
  },
  {
   "cell_type": "code",
   "execution_count": null,
   "metadata": {},
   "outputs": [],
   "source": []
  },
  {
   "cell_type": "markdown",
   "metadata": {},
   "source": [
    "## Q.2\n",
    "  A queue is observed over 1000 time intervals where the size of the queue after each time step is given as in Q.4 of Practical 1. Look at that question again for examples of do loops and if else statements in Python"
   ]
  },
  {
   "cell_type": "code",
   "execution_count": null,
   "metadata": {},
   "outputs": [],
   "source": [
    "qdata = [4, 5, 6, 6, 6, 7, 6, 7, 6, 5, 4, 4, 5, 6, 7, 6, 5, 4, 3, 4, 5, 6, 5, 4, 3, 2, 1, 2, 3, 2, 1, \n",
    "         2, 3, 4, 3, 2, 3, 2, 1, 1, 2, 2, 1, 0, 1, 0, 1, 0, 1, 0, 0, 1, 0, 1, 2, 3, 4, 5, 4, 5, 6, 7, \n",
    "         8, 7, 6, 7, 6, 6, 5, 4, 5, 4, 3, 2, 3, 2, 3, 2, 3, 2, 1, 1, 2, 3, 3, 4, 5, 6, 7, 6, 5, 6, 5, \n",
    "         6, 5, 6, 5, 4, 5, 4, 3, 4, 3, 4, 3, 2, 1, 0, 0, 0, 0, 1, 2, 1, 0, 1, 2, 3, 3, 2, 3, 4, 3, 2, \n",
    "         3, 2, 1, 2, 3, 2, 3, 2, 1, 0, 0, 1, 1, 2, 3, 2, 1, 0, 0, 1, 0, 0, 0, 0, 1, 0, 0, 1, 2, 1, 2, \n",
    "         1, 2, 3, 4, 3, 4, 5, 6, 5, 6, 5, 6, 7, 7, 6, 5, 4, 3, 4, 3, 3, 4, 3, 2, 3, 2, 3, 2, 1, 2, 1, \n",
    "         2, 1, 0, 0, 0, 0, 1, 2, 3, 2, 2, 3, 2, 1, 0, 1, 2, 1, 0, 1, 0, 1, 0, 1, 2, 1, 0, 0, 1, 0, 1, \n",
    "         0, 0, 1, 0, 0, 0, 0, 0, 0, 1, 2, 1, 1, 1, 0, 0, 1, 2, 3, 2, 3, 3, 4, 5, 6, 5, 4, 3, 2, 1, 2, \n",
    "         1, 0, 0, 0, 1, 2, 1, 0, 0, 0, 0, 1, 0, 0, 1, 0, 1, 1, 0, 1, 0, 0, 0, 0, 1, 0, 1, 0, 1, 1, 2, \n",
    "         1, 0, 0, 1, 2, 3, 2, 3, 2, 2, 3, 4, 4, 5, 4, 3, 2, 3, 2, 3, 2, 3, 2, 1, 0, 1, 2, 3, 2, 1, 2, \n",
    "         1, 0, 1, 0, 1, 2, 3, 3, 2, 1, 1, 2, 1, 2, 1, 2, 1, 2, 3, 2, 2, 1, 0, 1, 2, 1, 2, 3, 4, 4, 3, \n",
    "         2, 2, 1, 2, 3, 4, 5, 4, 4, 5, 4, 3, 4, 3, 2, 1, 0, 0, 0, 0, 0, 0, 0, 0, 0, 0, 1, 0, 1, 1, 2, \n",
    "         1, 2, 2, 3, 2, 3, 4, 5, 6, 5, 6, 5, 4, 5, 6, 7, 6, 5, 6, 6, 7, 6, 7, 7, 6, 7, 6, 5, 4, 5, 5, \n",
    "         4, 5, 6, 6, 5, 6, 5, 6, 5, 6, 5, 5, 5, 4, 3, 4, 5, 6, 5, 4, 3, 3, 4, 3, 2, 3, 2, 3, 3, 2, 1, \n",
    "         2, 1, 0, 0, 0, 0, 0, 1, 2, 3, 2, 3, 4, 5, 6, 7, 7, 8, 9, 8, 9, 8, 7, 6, 5, 5, 4, 5, 4, 3, 2, \n",
    "         1, 0, 1, 2, 1, 2, 3, 4, 5, 6, 7, 7, 8, 7, 8, 9, 8, 7, 6, 5, 4, 3, 4, 3, 4, 4, 5, 4, 3, 4, 3, \n",
    "         2, 3, 2, 3, 3, 2, 1, 1, 0, 1, 2, 1, 2, 2, 3, 4, 5, 6, 5, 4, 3, 2, 1, 0, 1, 0, 1, 0, 0, 1, 2, \n",
    "         3, 2, 1, 0, 0, 1, 2, 3, 4, 3, 2, 3, 2, 2, 1, 0, 1, 0, 0, 1, 0, 1, 2, 3, 4, 5, 6, 7, 6, 7, 7, \n",
    "         6, 7, 8, 8, 9, 10, 9, 10, 9, 10, 11, 10, 9, 8, 9, 10, 11, 10, 10, 9, 10, 10, 9, 8, 7, 8, 9, 10,\n",
    "         9, 8, 7, 6, 7, 6, 7, 6, 5, 4, 4, 5, 4, 3, 2, 1, 1, 0, 1, 0, 1, 0, 1, 0, 1, 2, 1, 2, 1, 0, 0, \n",
    "         0, 0, 1, 0, 0, 1, 0, 1, 2, 3, 2, 3, 2, 3, 4, 3, 2, 1, 1, 2, 1, 2, 1, 2, 1, 2, 2, 1, 2, 3, 2, \n",
    "         2, 2, 1, 0, 1, 2, 3, 4, 5, 4, 5, 4, 3, 2, 3, 4, 5, 5, 4, 3, 4, 3, 4, 5, 4, 3, 2, 1, 0, 1, 2, \n",
    "         3, 4, 3, 2, 3, 4, 3, 2, 3, 2, 1, 0, 0, 0, 0, 0, 1, 0, 1, 2, 3, 4, 5, 4, 5, 4, 5, 6, 5, 4, 5, \n",
    "         6, 5, 4, 3, 2, 1, 0, 0, 1, 0, 0, 1, 0, 1, 2, 3, 4, 3, 4, 3, 2, 1, 1, 2, 3, 2, 3, 2, 3, 2, 3, \n",
    "         4, 3, 4, 4, 5, 6, 7, 6, 7, 7, 6, 5, 4, 3, 4, 3, 2, 2, 3, 4, 3, 4, 3, 2, 1, 0, 0, 1, 2, 3, 2, \n",
    "         1, 2, 3, 2, 1, 0, 0, 0, 0, 1, 1, 2, 3, 2, 3, 2, 3, 4, 5, 6, 5, 5, 4, 3, 4, 5, 4, 3, 4, 5, 4, \n",
    "         3, 2, 1, 0, 1, 0, 0, 0, 0, 0, 1, 0, 0, 1, 2, 1, 0, 0, 0, 1, 0, 0, 1, 2, 3, 2, 3, 2, 3, 3, 4, \n",
    "         3, 2, 3, 2, 1, 0, 0, 0, 0, 0, 0, 1, 0, 1, 2, 1, 2, 1, 0, 1, 2, 1, 2, 1, 2, 3, 2, 3, 2, 1, 0, \n",
    "         0, 0, 1, 2, 2, 3, 3, 2, 3, 4, 3, 2, 1, 2, 3, 3, 2, 1, 0, 1, 2, 2, 3, 4, 5, 6, 7, 7, 6, 5, 4, \n",
    "         5, 4, 5, 4, 3, 2, 3, 4, 3, 2, 1, 2, 3, 4, 3, 2, 3, 2, 1, 0, 1, 2, 1, 0, 0, 0, 0, 0, 0, 1, 0, \n",
    "         0, 1, 2, 2, 3, 2, 1, 0, 1, 2, 3, 4, 4, 3, 4, 3, 2, 1, 0, 0, 0, 0, 1, 0, 1, 1, 0, 1, 2, 2, 1, \n",
    "         0, 0, 1, 0, 1, 2, 2, 3, 3, 4, 3, 2, 3, 2, 1, 0, 0, 1, 2, 1, 2, 3, 2, 1, 2, 3, 2, 3, 2, 1, 0, \n",
    "         1, 2, 1, 2, 3, 2, 3, 2, 1, 1, 0]"
   ]
  },
  {
   "cell_type": "code",
   "execution_count": null,
   "metadata": {},
   "outputs": [],
   "source": []
  },
  {
   "cell_type": "code",
   "execution_count": null,
   "metadata": {},
   "outputs": [],
   "source": []
  }
 ],
 "metadata": {
  "kernelspec": {
   "display_name": "Python 3",
   "language": "python",
   "name": "python3"
  },
  "language_info": {
   "codemirror_mode": {
    "name": "ipython",
    "version": 3
   },
   "file_extension": ".py",
   "mimetype": "text/x-python",
   "name": "python",
   "nbconvert_exporter": "python",
   "pygments_lexer": "ipython3",
   "version": "3.8.3"
  }
 },
 "nbformat": 4,
 "nbformat_minor": 4
}
